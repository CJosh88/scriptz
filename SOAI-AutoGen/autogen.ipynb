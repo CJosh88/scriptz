{
 "cells": [
  {
   "cell_type": "code",
   "execution_count": null,
   "metadata": {},
   "outputs": [],
   "source": [
    "import os\n",
    "#os.chdir(r'C:\\Users\\Josh\\Documents\\Git\\crewai')\n",
    "\n",
    "from dotenv import load_dotenv\n",
    "load_dotenv()\n",
    "\n",
    "from autogen import AssistantAgent, UserProxyAgent, GroupChatManager, GroupChat\n",
    "\n",
    "config_list = [\n",
    "\n",
    "    {\n",
    "        \"model\": \"gpt-4o\",\n",
    "        \"api_key\": os.environ.get(\"AZURE_OPENAI_API_KEY\"),\n",
    "        \"api_type\": \"azure\",\n",
    "        \"base_url\": os.environ.get(\"AZURE_OPENAI_API_BASE\"),\n",
    "        \"api_version\": \"2023-12-01-preview\",\n",
    "    },\n",
    "\n",
    "#     {\n",
    "#         \"model\": \"gpt-4o\",\n",
    "#         \"api_key\": os.environ.get(\"OPENAI_API_KEY\"),\n",
    "#         \"api_type\": \"openai\",\n",
    "#         \"temperature\": 0\n",
    "        \n",
    "#     }\n",
    "]\n",
    "\n"
   ]
  },
  {
   "cell_type": "markdown",
   "metadata": {},
   "source": [
    "![agents.png](agents.png)"
   ]
  },
  {
   "cell_type": "code",
   "execution_count": null,
   "metadata": {},
   "outputs": [],
   "source": [
    "llm_config = {\"config_list\": config_list, \"cache_seed\": 1988}\n",
    "\n",
    "user_proxy = UserProxyAgent(\n",
    "    name=\"User_proxy\",\n",
    "    system_message=\"\"\"You are the client admin who liases with the producer owner to ensure alignment\\\n",
    "  \"\"\",\n",
    "    code_execution_config={\n",
    "        \"last_n_messages\": 5,\n",
    "        \"work_dir\": \"groupchat\",\n",
    "        \"use_docker\": True,\n",
    "    },  # Please set use_docker=True if docker is available to run the generated code. Using docker is safer than running the generated code directly.\n",
    "    #human_input_mode=\"ALWAYS\",\n",
    ")\n",
    "\n",
    "po = AssistantAgent(\n",
    "    name=\"Product_owner\",\n",
    "    system_message=\"\"\"You are a Product Owner in a dynamic software development environment.\n",
    "  Your primary responsibility is orchestrating the vision of the product, defining\n",
    "  user stories, and prioritizing the product backlog. You act as the liaison between\n",
    "  the stakeholders and the development team, ensuring the client's voice is heard\n",
    "  and reflected in the product development.\"\"\",\n",
    "    llm_config=llm_config,\n",
    ")\n",
    "\n",
    "sd1 = AssistantAgent(\n",
    "    name=\"Snr_Software_developer\",\n",
    "    system_message=\"\"\"You are a Senior Developer with extensive experience in software \\\n",
    "  development. You have mastered multiple programming languages and frameworks.\\\n",
    "  Your role involves not only writing clean and efficient code but also architecting \\\n",
    "  scalable software solutions. You are also responsible for guiding and mentoring \\\n",
    "  junior developers, ensuring best practices are followed throughout the development \\\n",
    "  process.\"\"\",\n",
    "    llm_config=llm_config,\n",
    ")\n",
    "\n",
    "sd2 = AssistantAgent(\n",
    "    name=\"Jnr_Software_developer\",\n",
    "    system_message=\"\"\"As a Junior Developer, you are at the beginning of your software \\\n",
    "  development career. You are eager to learn and grow your skills in coding, debugging, \\\n",
    "  and collaborating on software projects. Under the mentorship of more experienced \\\n",
    "  developers, you work on various tasks, aiming to contribute effectively to the \\\n",
    "  team's objectives while enhancing your development proficiency.\"\"\",\n",
    "    llm_config=llm_config,\n",
    ")\n",
    "\n",
    "sm = AssistantAgent(\n",
    "    name=\"Scrum_master\",\n",
    "    system_message=\"\"\"As a Scrum Master, you are the team's coach and facilitator in an Agile \\\n",
    "  development environment. Your role is to support the Scrum Framework, assisting \\\n",
    "  both the development team and the product owner. You help remove impediments, ensure \\\n",
    "  that Scrum practices are followed, and strive to improve the team's efficiency and \\\n",
    "  effectiveness.\"\"\",\n",
    "    llm_config=llm_config,\n",
    ")\n",
    "groupchat = GroupChat(agents=[user_proxy, po, sd1, sd2, sm], messages=[], max_round=12)\n",
    "manager = GroupChatManager(groupchat=groupchat, llm_config=llm_config)"
   ]
  },
  {
   "cell_type": "code",
   "execution_count": null,
   "metadata": {},
   "outputs": [],
   "source": [
    "task1 = \"\"\"\n",
    "\n",
    "  Create a detailed project roadmap outlining major milestones, sprint plans with specific goals, \\\n",
    "  user stories, and acceptance criteria for each feature. To do this, you must first clarify the scope of the project with the client, \\\n",
    "  given their initial brief (an app that should allow the client to upload job specifications and \\\n",
    "  a maximum of 100 resumes, then have a large language model like gpt4 score each CV and present the results on an interactive dashboard for candidate comparison.) \\\n",
    ". Collaborate closely with the development team and stakeholders \\\n",
    "  to refine requirements and ensure alignment with client expectations. Document all planning and execution strategies in a clear and accessible format, \\\n",
    "  ensuring transparency and stakeholder engagement. Take an agile approach. Think step by step. \"\"\""
   ]
  },
  {
   "cell_type": "code",
   "execution_count": null,
   "metadata": {},
   "outputs": [],
   "source": [
    "t1 = user_proxy.initiate_chat(\n",
    "    manager, message=task1,\n",
    "    summary_method=\"reflection_with_llm\"\n",
    ")"
   ]
  },
  {
   "cell_type": "code",
   "execution_count": null,
   "metadata": {},
   "outputs": [],
   "source": [
    "t1.chat_history"
   ]
  },
  {
   "cell_type": "code",
   "execution_count": null,
   "metadata": {},
   "outputs": [],
   "source": [
    "task2 = f\"\"\"Implement the project plan decided on ({t1.chat_history}) through a simulated week-by-week sprint execution, ALWAYS making sure to write and show your code for EVERY sprint using the tools provided. \\\n",
    "  Use Python, with Flask for the backend and React for the frontend. Integrate OpenAI and 'langchain' or 'llamaindex' \\\n",
    "  for large language model capabilities. Throughout the each sprint, create intermediate artefacts such \\\n",
    "  as code repositories, documentation, and progress reports to maintain transparency with the senior developer and scrum \\\n",
    "  master. Address challenges proactively and seek guidance as needed to ensure adherence to the timeline and quality standards. \\\n",
    "  Your deliverables include the complete application code for EVERY sprint, a detailed development writeup explaining the architecture, \\\n",
    "  technologies used, and a reflection on the development process, including lessons learned and challenges overcome.\"\"\"\n",
    "\n",
    "user_proxy.initiate_chat(\n",
    "    manager, message=task2,\n",
    "    summary_method=\"reflection_with_llm\"\n",
    ")"
   ]
  }
 ],
 "metadata": {
  "kernelspec": {
   "display_name": "autogen",
   "language": "python",
   "name": "python3"
  },
  "language_info": {
   "codemirror_mode": {
    "name": "ipython",
    "version": 3
   },
   "file_extension": ".py",
   "mimetype": "text/x-python",
   "name": "python",
   "nbconvert_exporter": "python",
   "pygments_lexer": "ipython3",
   "version": "3.10.13"
  }
 },
 "nbformat": 4,
 "nbformat_minor": 2
}
