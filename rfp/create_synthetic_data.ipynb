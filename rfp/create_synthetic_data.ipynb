{
 "cells": [
  {
   "cell_type": "code",
   "execution_count": 3,
   "metadata": {},
   "outputs": [
    {
     "name": "stdout",
     "output_type": "stream",
     "text": [
      "Enhanced dummy CSV file 'consultants_schedule.csv' generated successfully with skillset-specific main skills.\n"
     ]
    }
   ],
   "source": [
    "import csv\n",
    "import random\n",
    "from faker import Faker\n",
    "\n",
    "# Initialize Faker to generate fictional names\n",
    "fake = Faker()\n",
    "\n",
    "# Define the headers for the CSV file\n",
    "headers = ['Consultant ID', 'Name', 'Level', 'Skillset', 'Main Skills'] + [f'{month} 2024' for month in ['February', 'March', 'April', 'May', 'June', 'July', 'August', 'September', 'October', 'November', 'December']]\n",
    "\n",
    "# Define skillsets and corresponding main skills\n",
    "skillset_main_skills = {\n",
    "    'Data Science': ['Python', 'R', 'Statistical Analysis', 'Machine Learning', 'Data Visualization'],\n",
    "    'Machine Learning': ['Python', 'TensorFlow', 'PyTorch', 'Scikit-learn', 'Deep Learning'],\n",
    "    'Software Development': ['Java', 'Python', 'C#', 'Version Control', 'Software Design Patterns'],\n",
    "    'Project Management': ['Agile Methodologies', 'Scrum', 'Risk Management', 'Stakeholder Management', 'Project Scheduling'],\n",
    "    'Cybersecurity': ['Network Security', 'Cryptography', 'Threat Analysis', 'Incident Response', 'Compliance'],\n",
    "    'Cloud Computing': ['AWS', 'Azure', 'GCP', 'Cloud Architecture', 'DevOps']\n",
    "}\n",
    "\n",
    "# Function to generate a random split of billed/unbilled hours\n",
    "def generate_hours():\n",
    "    total_hours = 160  # Assuming 160 working hours in a month\n",
    "    billed_hours = random.randint(0, total_hours)\n",
    "    unbilled_hours = total_hours - billed_hours\n",
    "    return f'{billed_hours}/{unbilled_hours}'\n",
    "\n",
    "# Function to generate main skills based on the skillset\n",
    "def generate_main_skills(skillset):\n",
    "    return ', '.join(random.sample(skillset_main_skills[skillset], 5))\n",
    "\n",
    "# Generate dummy data for 100 consultants\n",
    "data = []\n",
    "for consultant_id in range(1, 101):\n",
    "    skillset = random.choice(list(skillset_main_skills.keys()))\n",
    "    row = [\n",
    "        consultant_id,\n",
    "        fake.name(),  # Generate a fictional name\n",
    "        random.randint(1, 5),  # Level between 1 and 5\n",
    "        skillset,\n",
    "        generate_main_skills(skillset)  # Generate main skills based on the skillset\n",
    "    ] + [generate_hours() for _ in range(11)]  # 11 months from February to December\n",
    "    data.append(row)\n",
    "\n",
    "# Write the data to a CSV file\n",
    "with open('consultants_schedule.csv', 'w', newline='', encoding='utf-8') as file:\n",
    "    writer = csv.writer(file)\n",
    "    writer.writerow(headers)\n",
    "    writer.writerows(data)\n",
    "\n",
    "print(\"Enhanced dummy CSV file 'consultants_schedule.csv' generated successfully with skillset-specific main skills.\")\n"
   ]
  },
  {
   "cell_type": "code",
   "execution_count": 4,
   "metadata": {},
   "outputs": [
    {
     "name": "stdout",
     "output_type": "stream",
     "text": [
      "Synthetic CSV file 'company_accreditations.csv' generated successfully.\n"
     ]
    }
   ],
   "source": [
    "import csv\n",
    "from faker import Faker\n",
    "\n",
    "# Initialize Faker to generate dates\n",
    "fake = Faker()\n",
    "\n",
    "# Define the headers for the CSV file\n",
    "headers = ['Accreditation Name', 'Date Achieved/Updated']\n",
    "\n",
    "# Define the accreditations\n",
    "accreditations = [\n",
    "    'BEE Accreditation',\n",
    "    'ISO 27001:2013 - Information Security Management',\n",
    "    'ISO 27018:2014 - Personal Data Protection'\n",
    "]\n",
    "\n",
    "# Function to generate a random past date\n",
    "def generate_past_date():\n",
    "    # Generate a date within the past 10 years\n",
    "    return fake.date_between(start_date='-10y', end_date='today')\n",
    "\n",
    "# Generate synthetic data for each accreditation\n",
    "data = [(accreditation, generate_past_date()) for accreditation in accreditations]\n",
    "\n",
    "# Write the data to a CSV file\n",
    "with open('company_accreditations.csv', 'w', newline='', encoding='utf-8') as file:\n",
    "    writer = csv.writer(file)\n",
    "    writer.writerow(headers)\n",
    "    writer.writerows(data)\n",
    "\n",
    "print(\"Synthetic CSV file 'company_accreditations.csv' generated successfully.\")\n"
   ]
  }
 ],
 "metadata": {
  "kernelspec": {
   "display_name": "base",
   "language": "python",
   "name": "python3"
  },
  "language_info": {
   "codemirror_mode": {
    "name": "ipython",
    "version": 3
   },
   "file_extension": ".py",
   "mimetype": "text/x-python",
   "name": "python",
   "nbconvert_exporter": "python",
   "pygments_lexer": "ipython3",
   "version": "3.11.5"
  }
 },
 "nbformat": 4,
 "nbformat_minor": 2
}
